{
 "cells": [
  {
   "cell_type": "code",
   "execution_count": 66,
   "metadata": {},
   "outputs": [
    {
     "name": "stdout",
     "output_type": "stream",
     "text": [
      "hi\n"
     ]
    }
   ],
   "source": [
    "print('hi')"
   ]
  },
  {
   "cell_type": "code",
   "execution_count": 67,
   "metadata": {},
   "outputs": [
    {
     "data": {
      "text/plain": [
       "True"
      ]
     },
     "execution_count": 67,
     "metadata": {},
     "output_type": "execute_result"
    }
   ],
   "source": [
    "import os \n",
    "from dotenv import load_dotenv\n",
    "load_dotenv()"
   ]
  },
  {
   "cell_type": "code",
   "execution_count": 68,
   "metadata": {},
   "outputs": [],
   "source": [
    "google_api_key = os.getenv('GOOGLE_API_KEY')"
   ]
  },
  {
   "cell_type": "code",
   "execution_count": 69,
   "metadata": {},
   "outputs": [
    {
     "name": "stdout",
     "output_type": "stream",
     "text": [
      "api key found\n"
     ]
    }
   ],
   "source": [
    "if google_api_key == \"\":\n",
    "    print('Api key not available')\n",
    "else:\n",
    "    print('api key found')"
   ]
  },
  {
   "cell_type": "code",
   "execution_count": 70,
   "metadata": {},
   "outputs": [],
   "source": [
    "from llama_index.llms.gemini import Gemini\n",
    "import google.generativeai as genai\n",
    "from llama_index.core import SimpleDirectoryReader\n",
    "from llama_index.core import VectorStoreIndex\n",
    "from IPython.display import Markdown, display\n",
    "from llama_index.core import ServiceContext #i want to keep embedding, model together for the information retrieval \n",
    "from llama_index.core import StorageContext, load_index_from_storage\n",
    "from llama_index.embeddings.gemini import GeminiEmbedding"
   ]
  },
  {
   "cell_type": "code",
   "execution_count": 71,
   "metadata": {},
   "outputs": [],
   "source": [
    "#configure my api key\n",
    "genai.configure(api_key=google_api_key)"
   ]
  },
  {
   "cell_type": "code",
   "execution_count": 72,
   "metadata": {},
   "outputs": [
    {
     "name": "stdout",
     "output_type": "stream",
     "text": [
      "Model(name='models/chat-bison-001',\n",
      "      base_model_id='',\n",
      "      version='001',\n",
      "      display_name='PaLM 2 Chat (Legacy)',\n",
      "      description='A legacy text-only model optimized for chat conversations',\n",
      "      input_token_limit=4096,\n",
      "      output_token_limit=1024,\n",
      "      supported_generation_methods=['generateMessage', 'countMessageTokens'],\n",
      "      temperature=0.25,\n",
      "      top_p=0.95,\n",
      "      top_k=40)\n",
      "Model(name='models/text-bison-001',\n",
      "      base_model_id='',\n",
      "      version='001',\n",
      "      display_name='PaLM 2 (Legacy)',\n",
      "      description='A legacy model that understands text and generates text as an output',\n",
      "      input_token_limit=8196,\n",
      "      output_token_limit=1024,\n",
      "      supported_generation_methods=['generateText', 'countTextTokens', 'createTunedTextModel'],\n",
      "      temperature=0.7,\n",
      "      top_p=0.95,\n",
      "      top_k=40)\n",
      "Model(name='models/embedding-gecko-001',\n",
      "      base_model_id='',\n",
      "      version='001',\n",
      "      display_name='Embedding Gecko',\n",
      "      description='Obtain a distributed representation of a text.',\n",
      "      input_token_limit=1024,\n",
      "      output_token_limit=1,\n",
      "      supported_generation_methods=['embedText', 'countTextTokens'],\n",
      "      temperature=None,\n",
      "      top_p=None,\n",
      "      top_k=None)\n",
      "Model(name='models/gemini-1.0-pro',\n",
      "      base_model_id='',\n",
      "      version='001',\n",
      "      display_name='Gemini 1.0 Pro',\n",
      "      description='The best model for scaling across a wide range of tasks',\n",
      "      input_token_limit=30720,\n",
      "      output_token_limit=2048,\n",
      "      supported_generation_methods=['generateContent', 'countTokens'],\n",
      "      temperature=0.9,\n",
      "      top_p=1.0,\n",
      "      top_k=None)\n",
      "Model(name='models/gemini-1.0-pro-001',\n",
      "      base_model_id='',\n",
      "      version='001',\n",
      "      display_name='Gemini 1.0 Pro 001 (Tuning)',\n",
      "      description=('The best model for scaling across a wide range of tasks. This is a stable '\n",
      "                   'model that supports tuning.'),\n",
      "      input_token_limit=30720,\n",
      "      output_token_limit=2048,\n",
      "      supported_generation_methods=['generateContent', 'countTokens', 'createTunedModel'],\n",
      "      temperature=0.9,\n",
      "      top_p=1.0,\n",
      "      top_k=None)\n",
      "Model(name='models/gemini-1.0-pro-latest',\n",
      "      base_model_id='',\n",
      "      version='001',\n",
      "      display_name='Gemini 1.0 Pro Latest',\n",
      "      description=('The best model for scaling across a wide range of tasks. This is the latest '\n",
      "                   'model.'),\n",
      "      input_token_limit=30720,\n",
      "      output_token_limit=2048,\n",
      "      supported_generation_methods=['generateContent', 'countTokens'],\n",
      "      temperature=0.9,\n",
      "      top_p=1.0,\n",
      "      top_k=None)\n",
      "Model(name='models/gemini-1.0-pro-vision-latest',\n",
      "      base_model_id='',\n",
      "      version='001',\n",
      "      display_name='Gemini 1.0 Pro Vision',\n",
      "      description='The best image understanding model to handle a broad range of applications',\n",
      "      input_token_limit=12288,\n",
      "      output_token_limit=4096,\n",
      "      supported_generation_methods=['generateContent', 'countTokens'],\n",
      "      temperature=0.4,\n",
      "      top_p=1.0,\n",
      "      top_k=32)\n",
      "Model(name='models/gemini-1.5-flash',\n",
      "      base_model_id='',\n",
      "      version='001',\n",
      "      display_name='Gemini 1.5 Flash',\n",
      "      description='Fast and versatile multimodal model for scaling across diverse tasks',\n",
      "      input_token_limit=1048576,\n",
      "      output_token_limit=8192,\n",
      "      supported_generation_methods=['generateContent', 'countTokens'],\n",
      "      temperature=1.0,\n",
      "      top_p=0.95,\n",
      "      top_k=64)\n",
      "Model(name='models/gemini-1.5-flash-001',\n",
      "      base_model_id='',\n",
      "      version='001',\n",
      "      display_name='Gemini 1.5 Flash 001',\n",
      "      description='Fast and versatile multimodal model for scaling across diverse tasks',\n",
      "      input_token_limit=1048576,\n",
      "      output_token_limit=8192,\n",
      "      supported_generation_methods=['generateContent', 'countTokens', 'createCachedContent'],\n",
      "      temperature=1.0,\n",
      "      top_p=0.95,\n",
      "      top_k=64)\n",
      "Model(name='models/gemini-1.5-flash-latest',\n",
      "      base_model_id='',\n",
      "      version='001',\n",
      "      display_name='Gemini 1.5 Flash Latest',\n",
      "      description='Fast and versatile multimodal model for scaling across diverse tasks',\n",
      "      input_token_limit=1048576,\n",
      "      output_token_limit=8192,\n",
      "      supported_generation_methods=['generateContent', 'countTokens'],\n",
      "      temperature=1.0,\n",
      "      top_p=0.95,\n",
      "      top_k=64)\n",
      "Model(name='models/gemini-1.5-pro',\n",
      "      base_model_id='',\n",
      "      version='001',\n",
      "      display_name='Gemini 1.5 Pro',\n",
      "      description='Mid-size multimodal model that supports up to 2 million tokens',\n",
      "      input_token_limit=2097152,\n",
      "      output_token_limit=8192,\n",
      "      supported_generation_methods=['generateContent', 'countTokens'],\n",
      "      temperature=1.0,\n",
      "      top_p=0.95,\n",
      "      top_k=64)\n",
      "Model(name='models/gemini-1.5-pro-001',\n",
      "      base_model_id='',\n",
      "      version='001',\n",
      "      display_name='Gemini 1.5 Pro 001',\n",
      "      description='Mid-size multimodal model that supports up to 2 million tokens',\n",
      "      input_token_limit=2097152,\n",
      "      output_token_limit=8192,\n",
      "      supported_generation_methods=['generateContent', 'countTokens', 'createCachedContent'],\n",
      "      temperature=1.0,\n",
      "      top_p=0.95,\n",
      "      top_k=64)\n",
      "Model(name='models/gemini-1.5-pro-latest',\n",
      "      base_model_id='',\n",
      "      version='001',\n",
      "      display_name='Gemini 1.5 Pro Latest',\n",
      "      description='Mid-size multimodal model that supports up to 2 million tokens',\n",
      "      input_token_limit=2097152,\n",
      "      output_token_limit=8192,\n",
      "      supported_generation_methods=['generateContent', 'countTokens'],\n",
      "      temperature=1.0,\n",
      "      top_p=0.95,\n",
      "      top_k=64)\n",
      "Model(name='models/gemini-pro',\n",
      "      base_model_id='',\n",
      "      version='001',\n",
      "      display_name='Gemini 1.0 Pro',\n",
      "      description='The best model for scaling across a wide range of tasks',\n",
      "      input_token_limit=30720,\n",
      "      output_token_limit=2048,\n",
      "      supported_generation_methods=['generateContent', 'countTokens'],\n",
      "      temperature=0.9,\n",
      "      top_p=1.0,\n",
      "      top_k=None)\n",
      "Model(name='models/gemini-pro-vision',\n",
      "      base_model_id='',\n",
      "      version='001',\n",
      "      display_name='Gemini 1.0 Pro Vision',\n",
      "      description='The best image understanding model to handle a broad range of applications',\n",
      "      input_token_limit=12288,\n",
      "      output_token_limit=4096,\n",
      "      supported_generation_methods=['generateContent', 'countTokens'],\n",
      "      temperature=0.4,\n",
      "      top_p=1.0,\n",
      "      top_k=32)\n",
      "Model(name='models/embedding-001',\n",
      "      base_model_id='',\n",
      "      version='001',\n",
      "      display_name='Embedding 001',\n",
      "      description='Obtain a distributed representation of a text.',\n",
      "      input_token_limit=2048,\n",
      "      output_token_limit=1,\n",
      "      supported_generation_methods=['embedContent'],\n",
      "      temperature=None,\n",
      "      top_p=None,\n",
      "      top_k=None)\n",
      "Model(name='models/text-embedding-004',\n",
      "      base_model_id='',\n",
      "      version='004',\n",
      "      display_name='Text Embedding 004',\n",
      "      description='Obtain a distributed representation of a text.',\n",
      "      input_token_limit=2048,\n",
      "      output_token_limit=1,\n",
      "      supported_generation_methods=['embedContent'],\n",
      "      temperature=None,\n",
      "      top_p=None,\n",
      "      top_k=None)\n",
      "Model(name='models/aqa',\n",
      "      base_model_id='',\n",
      "      version='001',\n",
      "      display_name='Model that performs Attributed Question Answering.',\n",
      "      description=('Model trained to return answers to questions that are grounded in provided '\n",
      "                   'sources, along with estimating answerable probability.'),\n",
      "      input_token_limit=7168,\n",
      "      output_token_limit=1024,\n",
      "      supported_generation_methods=['generateAnswer'],\n",
      "      temperature=0.2,\n",
      "      top_p=1.0,\n",
      "      top_k=40)\n"
     ]
    }
   ],
   "source": [
    "for models in genai.list_models():\n",
    "    print(models)"
   ]
  },
  {
   "cell_type": "code",
   "execution_count": 73,
   "metadata": {},
   "outputs": [
    {
     "name": "stdout",
     "output_type": "stream",
     "text": [
      "models/gemini-1.0-pro\n",
      "models/gemini-1.0-pro-001\n",
      "models/gemini-1.0-pro-latest\n",
      "models/gemini-1.0-pro-vision-latest\n",
      "models/gemini-1.5-flash\n",
      "models/gemini-1.5-flash-001\n",
      "models/gemini-1.5-flash-latest\n",
      "models/gemini-1.5-pro\n",
      "models/gemini-1.5-pro-001\n",
      "models/gemini-1.5-pro-latest\n",
      "models/gemini-pro\n",
      "models/gemini-pro-vision\n"
     ]
    }
   ],
   "source": [
    "for model in genai.list_models():\n",
    "    if 'generateContent' in model.supported_generation_methods:\n",
    "        print(model.name)"
   ]
  },
  {
   "cell_type": "code",
   "execution_count": 74,
   "metadata": {},
   "outputs": [],
   "source": [
    "documents = SimpleDirectoryReader(\"../Data\")"
   ]
  },
  {
   "cell_type": "code",
   "execution_count": 75,
   "metadata": {},
   "outputs": [],
   "source": [
    "doc = documents.load_data()"
   ]
  },
  {
   "cell_type": "code",
   "execution_count": 76,
   "metadata": {},
   "outputs": [
    {
     "data": {
      "text/plain": [
       "[Document(id_='5bc87825-a80e-45ae-90ff-30c62311f0e1', embedding=None, metadata={'file_path': 'e:\\\\Amarnath\\\\GENAI_Basic_To_Advance\\\\4.QA_System_With_LlamaIndex\\u202c_and_GoogleGemini_Using_LlamaIndex_GeminiEmbedding_GeminiPro\\\\notebook\\\\..\\\\Data\\\\ISRO.txt', 'file_name': 'ISRO.txt', 'file_type': 'text/plain', 'file_size': 11254, 'creation_date': '2024-07-13', 'last_modified_date': '2024-07-13'}, excluded_embed_metadata_keys=['file_name', 'file_type', 'file_size', 'creation_date', 'last_modified_date', 'last_accessed_date'], excluded_llm_metadata_keys=['file_name', 'file_type', 'file_size', 'creation_date', 'last_modified_date', 'last_accessed_date'], relationships={}, text='The Indian Space Research Organisation (ISRO[3] /ˈɪsroʊ/)[a] is India\\'s national space agency. It operates as the most principal research and development arm of the Department of Space (DoS), which is directly overseen by the Prime Minister of India, with the Chairman of ISRO also serving as the chief executive of the DoS.\\r\\n\\r\\nISRO has the world\\'s largest constellation of remote-sensing satellites and operates the GAGAN and IRNSS (NavIC) satellite navigation systems. It has sent three missions to the Moon and one to Mars.\\r\\n\\r\\nISRO is primarily responsible for space-based operations, space exploration, international space cooperation and the development of related technologies.[4] ISRO is one of the six government space agencies in the world that possess full launch capabilities, the ability to deploy cryogenic engines, the ability to launch extraterrestrial missions and the ability to operate a large fleet of artificial satellites.[5][6][b]ISRO is also one of only four governmental space agencies in the world to have soft landing (unmanned) capabilities.[7][c]\\r\\n\\r\\nISRO was formerly known as the Indian National Committee for Space Research (INCOSPAR). It was set up at the behest of the then-Prime Minister Jawaharlal Nehru at the recommendation of Dr. Vikram Sarabhai in 1962, a prescient scientist. INCOSPAR was renamed ISRO in 1969 and was subsumed into the Department of Atomic Energy (DAE).[8] In 1972, the Government of India set up a Space Commission and the DoS, bringing ISRO under its purview.\\r\\n\\r\\nThe establishment of ISRO had institutionalised space research activities in India.[9][10] It has since then been managed by the DoS, which also governs various other institutions in India in the domain of astronomy and space technology.[11]\\r\\n\\r\\nISRO built India\\'s first satellite, Aryabhata, which was launched by the Soviet space agency Interkosmos in 1975.[12] In 1980, ISRO launched satellite RS-1 onboard SLV-3, making India only the seventh country on the planet to undertake orbital launches.\\r\\n\\r\\nSLV-3 was followed by ASLV, which was subsequently succeeded by the development of many medium-lift launch vehicles, rocket engines, satellite systems and networks enabling the agency to launch hundreds of domestic and foreign satellites and various deep space missions.\\r\\n\\r\\nISRO\\'s programmes have played a significant role in the socio-economic development of India and have supported both civilian and military domains in various aspects including disaster management, telemedicine, navigation and reconnaissance missions. ISRO\\'s spin-off technologies have also undergirded many ground-breaking innovations in India\\'s engineering and medical landscapes.[13]\\r\\n\\r\\nModern space research in India can be traced to the 1920s, when scientist S. K. Mitra conducted a series of experiments sounding the ionosphere through ground-based radio in Kolkata.[14] Later, Indian scientists like C.V. Raman and Meghnad Saha contributed to scientific principles applicable in space sciences.[14] After 1945, important developments were made in coordinated space research in India[14] by two scientists: Vikram Sarabhai, founder of the Physical Research Laboratory at Ahmedabad, and Homi Bhabha, who established the Tata Institute of Fundamental Research in 1945.[14] Initial experiments in space sciences included the study of cosmic radiation, high-altitude and airborne testing, deep underground experimentation at the Kolar mines—one of the deepest mining sites in the world—and studies of the upper atmosphere.[15] These studies were done at research laboratories, universities, and independent locations.[15][16]\\r\\n\\r\\nIn 1950, the Department of Atomic Energy (DAE) was founded with Bhabha as its secretary.[16] It provided funding for space research throughout India.[17] During this time, tests continued on aspects of meteorology and the Earth\\'s magnetic field, a topic that had been studied in India since the establishment of the Colaba Observatory in 1823. In 1954, the Aryabhatta Research Institute of Observational Sciences (ARIES) was established in the foothills of the Himalayas.[16] The Rangpur Observatory was set up in 1957 at Osmania University, Hyderabad. Space research was further encouraged by the government of India.[17] In 1957, the Soviet Union launched Sputnik 1 and opened up possibilities for the rest of the world to conduct a space launch.[17]\\r\\n\\r\\nThe Indian National Committee for Space Research (INCOSPAR) was set up in 1962 by Prime Minister Jawaharlal Nehru on the suggestion of Dr. Vikram Sarabhai.[10] Initially there was no dedicated ministry for the space programme and all activities of INCOSPAR relating to space technology continued to function within the DAE.[18][9] IOFS officers were drawn from the Indian Ordnance Factories to harness their knowledge of propellants and advanced light materials used to build rockets.[19] H.G.S. Murthy, an IOFS officer, was appointed the first director of the Thumba Equatorial Rocket Launching Station,[20] where sounding rockets were fired, marking the start of upper atmospheric research in India.[21] An indigenous series of sounding rockets named Rohini was subsequently developed and started undergoing launches from 1967 onwards.[22] Waman Dattatreya Patwardhan, another IOFS officer, developed the propellant for the rockets.\\r\\n\\r\\n1970s and 1980s\\r\\nUnder the government of Indira Gandhi, INCOSPAR was superseded by ISRO. Later in 1972, a space commission and Department of Space (DoS) were set up to oversee space technology development in India specifically. ISRO was brought under DoS, institutionalising space research in India and forging the Indian space programme into its existing form.[9][11] India joined the Soviet Interkosmos programme for space cooperation[23] and got its first satellite Aryabhatta in orbit through a Soviet rocket.[12]\\r\\n\\r\\nEfforts to develop an orbital launch vehicle began after mastering sounding rocket technology. The concept was to develop a launcher capable of providing sufficient velocity for a mass of 35 kg (77 lb) to enter low Earth orbit. It took 7 years for ISRO to develop Satellite Launch Vehicle capable of putting 40 kg (88 lb) into a 400-kilometre (250 mi) orbit. An SLV Launch Pad, ground stations, tracking networks, radars and other communications were set up for a launch campaign. The SLV\\'s first launch in 1979 carried a Rohini technology payload but could not inject the satellite into its desired orbit. It was followed by a successful launch in 1980 carrying a Rohini Series-I satellite, making India the seventh country to reach Earth\\'s orbit after the USSR, the US, France, the UK, China and Japan. RS-1 was the third Indian satellite to reach orbit as Bhaskara had been launched from the USSR in 1979. Efforts to develop a medium-lift launch vehicle capable of putting 600-kilogram (1,300 lb) class spacecrafts into 1,000-kilometre (620 mi) Sun-synchronous orbit had already begun in 1978.[24] They would later lead to the development of PSLV.[25] The SLV-3 later had two more launches before discontinuation in 1983.[26] ISRO\\'s Liquid Propulsion Systems Centre (LPSC) was set up in 1985 and started working on a more powerful engine, Vikas, based upon the French Viking.[27] Two years later, facilities to test liquid-fuelled rocket engines were established and development and testing of various rocket engines thrusters began.[28]\\r\\n\\r\\nAt the same time, another solid-fuelled rocket Augmented Satellite Launch Vehicle based upon SLV-3 was being developed, and technologies to launch satellites into geostationary orbit (GTO). ASLV had limited success and multiple launch failures; it was soon discontinued.[29] Alongside, technologies for the Indian National Satellite System of communication satellites[30] and the Indian Remote Sensing Programme for earth observation satellites[31] were developed and launches from overseas initiated. The number of satellites eventually grew and the systems were established as among the largest satellite constellations in the world, with multi-band communication, radar imaging, optical imaging and meteorological satellites.[32]\\r\\n\\r\\n1990s\\r\\nThe arrival of PSLV in 1990s became a major boost for the Indian space programme. With the exception of its first flight in 1994 and two partial failures later, PSLV had a streak of more than 50 successful flights. PSLV enabled India to launch all of its low Earth orbit satellites, small payloads to GTO and hundreds of foreign satellites.[33] Along with the PSLV flights, development of a new rocket, a Geosynchronous Satellite Launch Vehicle (GSLV) was going on. India tried to obtain upper-stage cryogenic engines from Russia\\'s Glavkosmos but was blocked by the US from doing so. As a result, KVD-1 engines were imported from Russia under a new agreement which had limited success[34] and a project to develop indigenous cryogenic technology was launched in 1994, taking two decades to reach fulfillment.[35] A new agreement was signed with Russia for seven KVD-1 cryogenic stages and a ground mock-up stage with no technology transfer, instead of five cryogenic stages along with the technology and design in the earlier agreement.[36] These engines were used for the initial flights and were named GSLV Mk.1.[37] ISRO was under US government sanctions between 6 May 1992 to 6 May 1994.[38] After the United States refused to help India with Global Positioning System (GPS) technology during the Kargil war, ISRO was prompted to develop its own satellite navigation system IRNSS which it is now expanding further.[39]\\r\\n\\r\\n21st century\\r\\nIn 2003, when China sent humans into space, Prime Minister Atal Bihari Vajpayee urged scientists to develop technologies to land humans on the Moon[40] and programmes for lunar, planetary and crewed missions were started. ISRO launched Chandrayaan-1 in 2008, purportedly the first probe to verify the presence of water on the Moon,[41] and the Mars Orbiter Mission in 2013, the first Asian spacecraft to enter Martian orbit, making India the first country to succeed at this on its first attempt.[42] Subsequently, the cryogenic upper stage for GSLV rocket became operational, making India the sixth country to have full launch capabilities.[43] A new heavier-lift launcher LVM3 was introduced in 2014 for heavier satellites and future human space missions.[44]\\r\\n\\r\\nOn 23 August 2023, India achieved its first soft landing on an extraterrestrial body and became the first nation to successfully land a spacecraft near the lunar south pole with ISRO\\'s Chandrayaan-3, the third Moon mission.[45] Indian moon mission, Chandrayaan-3 (translated as \"mooncraft\" in English), saw the successful soft landing of its Vikram lander at 6.04pm IST (1234 GMT) near the little-explored region of the Moon in a world\\'s first for any space programme.[46] India then successfully launched its first sun probe, the Aditya-L1, aboard a PSLV on September 2.[47][48]\\r\\n\\r\\nAgency logo\\r\\nISRO did not have an official logo until 2002. The one adopted consists of an orange arrow shooting upwards attached with two blue coloured satellite panels with the name of ISRO written in two sets of text, orange-coloured Devanagari on the left and blue-coloured English in the Prakrta typeface on the right.[49][50]', mimetype='text/plain', start_char_idx=None, end_char_idx=None, text_template='{metadata_str}\\n\\n{content}', metadata_template='{key}: {value}', metadata_seperator='\\n')]"
      ]
     },
     "execution_count": 76,
     "metadata": {},
     "output_type": "execute_result"
    }
   ],
   "source": [
    "doc"
   ]
  },
  {
   "cell_type": "code",
   "execution_count": 77,
   "metadata": {},
   "outputs": [
    {
     "data": {
      "text/plain": [
       "'The Indian Space Research Organisation (ISRO[3] /ˈɪsroʊ/)[a] is India\\'s national space agency. It operates as the most principal research and development arm of the Department of Space (DoS), which is directly overseen by the Prime Minister of India, with the Chairman of ISRO also serving as the chief executive of the DoS.\\r\\n\\r\\nISRO has the world\\'s largest constellation of remote-sensing satellites and operates the GAGAN and IRNSS (NavIC) satellite navigation systems. It has sent three missions to the Moon and one to Mars.\\r\\n\\r\\nISRO is primarily responsible for space-based operations, space exploration, international space cooperation and the development of related technologies.[4] ISRO is one of the six government space agencies in the world that possess full launch capabilities, the ability to deploy cryogenic engines, the ability to launch extraterrestrial missions and the ability to operate a large fleet of artificial satellites.[5][6][b]ISRO is also one of only four governmental space agencies in the world to have soft landing (unmanned) capabilities.[7][c]\\r\\n\\r\\nISRO was formerly known as the Indian National Committee for Space Research (INCOSPAR). It was set up at the behest of the then-Prime Minister Jawaharlal Nehru at the recommendation of Dr. Vikram Sarabhai in 1962, a prescient scientist. INCOSPAR was renamed ISRO in 1969 and was subsumed into the Department of Atomic Energy (DAE).[8] In 1972, the Government of India set up a Space Commission and the DoS, bringing ISRO under its purview.\\r\\n\\r\\nThe establishment of ISRO had institutionalised space research activities in India.[9][10] It has since then been managed by the DoS, which also governs various other institutions in India in the domain of astronomy and space technology.[11]\\r\\n\\r\\nISRO built India\\'s first satellite, Aryabhata, which was launched by the Soviet space agency Interkosmos in 1975.[12] In 1980, ISRO launched satellite RS-1 onboard SLV-3, making India only the seventh country on the planet to undertake orbital launches.\\r\\n\\r\\nSLV-3 was followed by ASLV, which was subsequently succeeded by the development of many medium-lift launch vehicles, rocket engines, satellite systems and networks enabling the agency to launch hundreds of domestic and foreign satellites and various deep space missions.\\r\\n\\r\\nISRO\\'s programmes have played a significant role in the socio-economic development of India and have supported both civilian and military domains in various aspects including disaster management, telemedicine, navigation and reconnaissance missions. ISRO\\'s spin-off technologies have also undergirded many ground-breaking innovations in India\\'s engineering and medical landscapes.[13]\\r\\n\\r\\nModern space research in India can be traced to the 1920s, when scientist S. K. Mitra conducted a series of experiments sounding the ionosphere through ground-based radio in Kolkata.[14] Later, Indian scientists like C.V. Raman and Meghnad Saha contributed to scientific principles applicable in space sciences.[14] After 1945, important developments were made in coordinated space research in India[14] by two scientists: Vikram Sarabhai, founder of the Physical Research Laboratory at Ahmedabad, and Homi Bhabha, who established the Tata Institute of Fundamental Research in 1945.[14] Initial experiments in space sciences included the study of cosmic radiation, high-altitude and airborne testing, deep underground experimentation at the Kolar mines—one of the deepest mining sites in the world—and studies of the upper atmosphere.[15] These studies were done at research laboratories, universities, and independent locations.[15][16]\\r\\n\\r\\nIn 1950, the Department of Atomic Energy (DAE) was founded with Bhabha as its secretary.[16] It provided funding for space research throughout India.[17] During this time, tests continued on aspects of meteorology and the Earth\\'s magnetic field, a topic that had been studied in India since the establishment of the Colaba Observatory in 1823. In 1954, the Aryabhatta Research Institute of Observational Sciences (ARIES) was established in the foothills of the Himalayas.[16] The Rangpur Observatory was set up in 1957 at Osmania University, Hyderabad. Space research was further encouraged by the government of India.[17] In 1957, the Soviet Union launched Sputnik 1 and opened up possibilities for the rest of the world to conduct a space launch.[17]\\r\\n\\r\\nThe Indian National Committee for Space Research (INCOSPAR) was set up in 1962 by Prime Minister Jawaharlal Nehru on the suggestion of Dr. Vikram Sarabhai.[10] Initially there was no dedicated ministry for the space programme and all activities of INCOSPAR relating to space technology continued to function within the DAE.[18][9] IOFS officers were drawn from the Indian Ordnance Factories to harness their knowledge of propellants and advanced light materials used to build rockets.[19] H.G.S. Murthy, an IOFS officer, was appointed the first director of the Thumba Equatorial Rocket Launching Station,[20] where sounding rockets were fired, marking the start of upper atmospheric research in India.[21] An indigenous series of sounding rockets named Rohini was subsequently developed and started undergoing launches from 1967 onwards.[22] Waman Dattatreya Patwardhan, another IOFS officer, developed the propellant for the rockets.\\r\\n\\r\\n1970s and 1980s\\r\\nUnder the government of Indira Gandhi, INCOSPAR was superseded by ISRO. Later in 1972, a space commission and Department of Space (DoS) were set up to oversee space technology development in India specifically. ISRO was brought under DoS, institutionalising space research in India and forging the Indian space programme into its existing form.[9][11] India joined the Soviet Interkosmos programme for space cooperation[23] and got its first satellite Aryabhatta in orbit through a Soviet rocket.[12]\\r\\n\\r\\nEfforts to develop an orbital launch vehicle began after mastering sounding rocket technology. The concept was to develop a launcher capable of providing sufficient velocity for a mass of 35 kg (77 lb) to enter low Earth orbit. It took 7 years for ISRO to develop Satellite Launch Vehicle capable of putting 40 kg (88 lb) into a 400-kilometre (250 mi) orbit. An SLV Launch Pad, ground stations, tracking networks, radars and other communications were set up for a launch campaign. The SLV\\'s first launch in 1979 carried a Rohini technology payload but could not inject the satellite into its desired orbit. It was followed by a successful launch in 1980 carrying a Rohini Series-I satellite, making India the seventh country to reach Earth\\'s orbit after the USSR, the US, France, the UK, China and Japan. RS-1 was the third Indian satellite to reach orbit as Bhaskara had been launched from the USSR in 1979. Efforts to develop a medium-lift launch vehicle capable of putting 600-kilogram (1,300 lb) class spacecrafts into 1,000-kilometre (620 mi) Sun-synchronous orbit had already begun in 1978.[24] They would later lead to the development of PSLV.[25] The SLV-3 later had two more launches before discontinuation in 1983.[26] ISRO\\'s Liquid Propulsion Systems Centre (LPSC) was set up in 1985 and started working on a more powerful engine, Vikas, based upon the French Viking.[27] Two years later, facilities to test liquid-fuelled rocket engines were established and development and testing of various rocket engines thrusters began.[28]\\r\\n\\r\\nAt the same time, another solid-fuelled rocket Augmented Satellite Launch Vehicle based upon SLV-3 was being developed, and technologies to launch satellites into geostationary orbit (GTO). ASLV had limited success and multiple launch failures; it was soon discontinued.[29] Alongside, technologies for the Indian National Satellite System of communication satellites[30] and the Indian Remote Sensing Programme for earth observation satellites[31] were developed and launches from overseas initiated. The number of satellites eventually grew and the systems were established as among the largest satellite constellations in the world, with multi-band communication, radar imaging, optical imaging and meteorological satellites.[32]\\r\\n\\r\\n1990s\\r\\nThe arrival of PSLV in 1990s became a major boost for the Indian space programme. With the exception of its first flight in 1994 and two partial failures later, PSLV had a streak of more than 50 successful flights. PSLV enabled India to launch all of its low Earth orbit satellites, small payloads to GTO and hundreds of foreign satellites.[33] Along with the PSLV flights, development of a new rocket, a Geosynchronous Satellite Launch Vehicle (GSLV) was going on. India tried to obtain upper-stage cryogenic engines from Russia\\'s Glavkosmos but was blocked by the US from doing so. As a result, KVD-1 engines were imported from Russia under a new agreement which had limited success[34] and a project to develop indigenous cryogenic technology was launched in 1994, taking two decades to reach fulfillment.[35] A new agreement was signed with Russia for seven KVD-1 cryogenic stages and a ground mock-up stage with no technology transfer, instead of five cryogenic stages along with the technology and design in the earlier agreement.[36] These engines were used for the initial flights and were named GSLV Mk.1.[37] ISRO was under US government sanctions between 6 May 1992 to 6 May 1994.[38] After the United States refused to help India with Global Positioning System (GPS) technology during the Kargil war, ISRO was prompted to develop its own satellite navigation system IRNSS which it is now expanding further.[39]\\r\\n\\r\\n21st century\\r\\nIn 2003, when China sent humans into space, Prime Minister Atal Bihari Vajpayee urged scientists to develop technologies to land humans on the Moon[40] and programmes for lunar, planetary and crewed missions were started. ISRO launched Chandrayaan-1 in 2008, purportedly the first probe to verify the presence of water on the Moon,[41] and the Mars Orbiter Mission in 2013, the first Asian spacecraft to enter Martian orbit, making India the first country to succeed at this on its first attempt.[42] Subsequently, the cryogenic upper stage for GSLV rocket became operational, making India the sixth country to have full launch capabilities.[43] A new heavier-lift launcher LVM3 was introduced in 2014 for heavier satellites and future human space missions.[44]\\r\\n\\r\\nOn 23 August 2023, India achieved its first soft landing on an extraterrestrial body and became the first nation to successfully land a spacecraft near the lunar south pole with ISRO\\'s Chandrayaan-3, the third Moon mission.[45] Indian moon mission, Chandrayaan-3 (translated as \"mooncraft\" in English), saw the successful soft landing of its Vikram lander at 6.04pm IST (1234 GMT) near the little-explored region of the Moon in a world\\'s first for any space programme.[46] India then successfully launched its first sun probe, the Aditya-L1, aboard a PSLV on September 2.[47][48]\\r\\n\\r\\nAgency logo\\r\\nISRO did not have an official logo until 2002. The one adopted consists of an orange arrow shooting upwards attached with two blue coloured satellite panels with the name of ISRO written in two sets of text, orange-coloured Devanagari on the left and blue-coloured English in the Prakrta typeface on the right.[49][50]'"
      ]
     },
     "execution_count": 77,
     "metadata": {},
     "output_type": "execute_result"
    }
   ],
   "source": [
    "doc[0].text"
   ]
  },
  {
   "cell_type": "code",
   "execution_count": 79,
   "metadata": {},
   "outputs": [],
   "source": [
    "#model\n",
    "llm = Gemini(model=\"models/gemini-pro\",api_key=google_api_key)\n",
    "#model = Gemini(model='models/gemini-pro-vision',api_key=google_api_key)"
   ]
  },
  {
   "cell_type": "code",
   "execution_count": 80,
   "metadata": {},
   "outputs": [],
   "source": [
    "#load the embedding model - Gemini\n",
    "gemini_embed_model =  GeminiEmbedding(model_name=\"models/embedding-001\") "
   ]
  },
  {
   "cell_type": "code",
   "execution_count": 81,
   "metadata": {},
   "outputs": [
    {
     "name": "stderr",
     "output_type": "stream",
     "text": [
      "C:\\Users\\Asus-2020\\AppData\\Local\\Temp\\ipykernel_13508\\1461710285.py:2: DeprecationWarning: Call to deprecated class method from_defaults. (ServiceContext is deprecated, please use `llama_index.settings.Settings` instead.) -- Deprecated since version 0.10.0.\n",
      "  service_context = ServiceContext.from_defaults(llm=llm,embed_model=gemini_embed_model,chunk_size=800,chunk_overlap=20)\n"
     ]
    }
   ],
   "source": [
    "#configure service context\n",
    "service_context = ServiceContext.from_defaults(llm=llm,embed_model=gemini_embed_model,chunk_size=800,chunk_overlap=20)"
   ]
  },
  {
   "cell_type": "code",
   "execution_count": 82,
   "metadata": {},
   "outputs": [],
   "source": [
    "#create index\n",
    "index = VectorStoreIndex.from_documents(doc,service_context=service_context)"
   ]
  },
  {
   "cell_type": "code",
   "execution_count": 83,
   "metadata": {},
   "outputs": [],
   "source": [
    "#create local db\n",
    "index.storage_context.persist()"
   ]
  },
  {
   "cell_type": "code",
   "execution_count": 84,
   "metadata": {},
   "outputs": [],
   "source": [
    "#Based on the indexing iam going to create an query engine\n",
    "query_engine = index.as_query_engine()"
   ]
  },
  {
   "cell_type": "code",
   "execution_count": 87,
   "metadata": {},
   "outputs": [],
   "source": [
    "response = query_engine.query(\"Expansion of ISRO?\")\n",
    "#response = query_engine.query(\"Who is Paul Graham.\")"
   ]
  },
  {
   "cell_type": "code",
   "execution_count": 88,
   "metadata": {},
   "outputs": [
    {
     "name": "stdout",
     "output_type": "stream",
     "text": [
      "Indian Space Research Organisation\n"
     ]
    }
   ],
   "source": [
    "print(response.response)"
   ]
  },
  {
   "cell_type": "code",
   "execution_count": null,
   "metadata": {},
   "outputs": [],
   "source": []
  }
 ],
 "metadata": {
  "kernelspec": {
   "display_name": "qa_gemini",
   "language": "python",
   "name": "python3"
  },
  "language_info": {
   "codemirror_mode": {
    "name": "ipython",
    "version": 3
   },
   "file_extension": ".py",
   "mimetype": "text/x-python",
   "name": "python",
   "nbconvert_exporter": "python",
   "pygments_lexer": "ipython3",
   "version": "3.10.14"
  }
 },
 "nbformat": 4,
 "nbformat_minor": 2
}
